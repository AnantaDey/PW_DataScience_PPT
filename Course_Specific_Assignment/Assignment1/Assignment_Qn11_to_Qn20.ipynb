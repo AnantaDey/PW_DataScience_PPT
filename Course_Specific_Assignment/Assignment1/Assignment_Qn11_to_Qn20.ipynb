{
 "cells": [
  {
   "cell_type": "markdown",
   "id": "1ff419f9",
   "metadata": {},
   "source": [
    "## 11. Write a program to find the common elements between two lists."
   ]
  },
  {
   "cell_type": "code",
   "execution_count": 1,
   "id": "3678df12",
   "metadata": {},
   "outputs": [],
   "source": [
    "def commonList(list1,list2):\n",
    "    res = []\n",
    "    for i in list1:\n",
    "        if i in list2:\n",
    "            res.append(i)\n",
    "    return res"
   ]
  },
  {
   "cell_type": "code",
   "execution_count": 2,
   "id": "52677ca4",
   "metadata": {},
   "outputs": [
    {
     "data": {
      "text/plain": [
       "[3, 4, 5]"
      ]
     },
     "execution_count": 2,
     "metadata": {},
     "output_type": "execute_result"
    }
   ],
   "source": [
    "commonList([1,2,3,4,5],[3,4,5])"
   ]
  },
  {
   "cell_type": "markdown",
   "id": "70320f36",
   "metadata": {},
   "source": [
    "## 12. Implement a function to check if a given string is an anagram of another string."
   ]
  },
  {
   "cell_type": "code",
   "execution_count": 3,
   "id": "d4bc694f",
   "metadata": {},
   "outputs": [],
   "source": [
    "def is_anagram(str1,str2):\n",
    "    if len(str1)!=len(str2):\n",
    "        return False\n",
    "    \n",
    "    res = [0]*26\n",
    "    \n",
    "    for i in str1:\n",
    "        res[ord(i)-ord('a')]+=1\n",
    "    \n",
    "    for i in str2:\n",
    "        res[ord(i)-ord('a')]-=1\n",
    "        \n",
    "    for i in range(26):\n",
    "        if res[i]!=0:\n",
    "            return False\n",
    "    \n",
    "    return True\n",
    "    \n",
    "    "
   ]
  },
  {
   "cell_type": "code",
   "execution_count": 4,
   "id": "c06dfead",
   "metadata": {},
   "outputs": [
    {
     "data": {
      "text/plain": [
       "True"
      ]
     },
     "execution_count": 4,
     "metadata": {},
     "output_type": "execute_result"
    }
   ],
   "source": [
    "is_anagram('abc','bca')"
   ]
  },
  {
   "cell_type": "code",
   "execution_count": 5,
   "id": "0bce34a7",
   "metadata": {},
   "outputs": [
    {
     "data": {
      "text/plain": [
       "False"
      ]
     },
     "execution_count": 5,
     "metadata": {},
     "output_type": "execute_result"
    }
   ],
   "source": [
    "is_anagram('ananta','dey')"
   ]
  },
  {
   "cell_type": "markdown",
   "id": "ad76d5be",
   "metadata": {},
   "source": [
    "## 13. Write a Python program to generate all permutations of a given string.\n"
   ]
  },
  {
   "cell_type": "code",
   "execution_count": 11,
   "id": "dec45f8f",
   "metadata": {},
   "outputs": [],
   "source": [
    "def permutation_string(str):\n",
    "    n = len(str)\n",
    "    \n",
    "    if n == 0:\n",
    "        return []\n",
    "    if n == 1:\n",
    "        return [str]\n",
    "    permutation = []\n",
    "    \n",
    "    for i in range(n):\n",
    "        char = str[i]\n",
    "        remaining_chars = str[:i]+str[i+1:]\n",
    "        subpermutation = permutation_string(remaining_chars)\n",
    "        \n",
    "        for j in subpermutation:\n",
    "            permutation.append(char+j)\n",
    "    return permutation\n",
    "        "
   ]
  },
  {
   "cell_type": "code",
   "execution_count": 12,
   "id": "c4856833",
   "metadata": {},
   "outputs": [
    {
     "data": {
      "text/plain": [
       "['abc', 'acb', 'bac', 'bca', 'cab', 'cba']"
      ]
     },
     "execution_count": 12,
     "metadata": {},
     "output_type": "execute_result"
    }
   ],
   "source": [
    "permutation_string('abc')"
   ]
  },
  {
   "cell_type": "markdown",
   "id": "e3bd452f",
   "metadata": {},
   "source": [
    "## 14. Implement a function to calculate the Fibonacci sequence up to a given number of terms."
   ]
  },
  {
   "cell_type": "code",
   "execution_count": 27,
   "id": "9f883272",
   "metadata": {},
   "outputs": [],
   "source": [
    "def fib(n):\n",
    "    a1 = 0\n",
    "    a2 = 1\n",
    "    seq = 0\n",
    "    for i in range(2,n):\n",
    "        a1,a2 = a2,a1+a2\n",
    "    return a2\n",
    "        "
   ]
  },
  {
   "cell_type": "code",
   "execution_count": 28,
   "id": "2ff66903",
   "metadata": {},
   "outputs": [
    {
     "data": {
      "text/plain": [
       "3"
      ]
     },
     "execution_count": 28,
     "metadata": {},
     "output_type": "execute_result"
    }
   ],
   "source": [
    "fib(5)"
   ]
  },
  {
   "cell_type": "code",
   "execution_count": 29,
   "id": "ccb1e17e",
   "metadata": {},
   "outputs": [
    {
     "data": {
      "text/plain": [
       "8"
      ]
     },
     "execution_count": 29,
     "metadata": {},
     "output_type": "execute_result"
    }
   ],
   "source": [
    "fib(7)"
   ]
  },
  {
   "cell_type": "markdown",
   "id": "4a113094",
   "metadata": {},
   "source": [
    "## 15. Write a program to find the median of a list of numbers."
   ]
  },
  {
   "cell_type": "code",
   "execution_count": 30,
   "id": "efb597d4",
   "metadata": {},
   "outputs": [],
   "source": [
    "def find_median(numbers):\n",
    "    numbers.sort()\n",
    "    n = len(numbers)\n",
    "    if n % 2 == 0:\n",
    "        mid1 = n // 2\n",
    "        mid2 = mid1 - 1\n",
    "        median = (numbers[mid1] + numbers[mid2]) / 2\n",
    "    else:\n",
    "        mid = n // 2\n",
    "        median = numbers[mid]\n",
    "    return median\n"
   ]
  },
  {
   "cell_type": "code",
   "execution_count": 31,
   "id": "20c6d9cf",
   "metadata": {},
   "outputs": [
    {
     "data": {
      "text/plain": [
       "3.5"
      ]
     },
     "execution_count": 31,
     "metadata": {},
     "output_type": "execute_result"
    }
   ],
   "source": [
    "find_median([1,2,3,4,5,6])"
   ]
  },
  {
   "cell_type": "markdown",
   "id": "0b432a8f",
   "metadata": {},
   "source": [
    "## 16. Implement a function to check if a given list is sorted in non-decreasing order."
   ]
  },
  {
   "cell_type": "code",
   "execution_count": 32,
   "id": "1005ea48",
   "metadata": {},
   "outputs": [],
   "source": [
    "def is_sorted(lst):\n",
    "    n = len(lst)\n",
    "    for i in range(1, n):\n",
    "        if lst[i] < lst[i-1]:\n",
    "            return False\n",
    "    return True"
   ]
  },
  {
   "cell_type": "code",
   "execution_count": 33,
   "id": "3214b605",
   "metadata": {},
   "outputs": [
    {
     "data": {
      "text/plain": [
       "True"
      ]
     },
     "execution_count": 33,
     "metadata": {},
     "output_type": "execute_result"
    }
   ],
   "source": [
    "is_sorted([1,2,3,4,5])"
   ]
  },
  {
   "cell_type": "code",
   "execution_count": 34,
   "id": "7ed08b6b",
   "metadata": {},
   "outputs": [
    {
     "data": {
      "text/plain": [
       "False"
      ]
     },
     "execution_count": 34,
     "metadata": {},
     "output_type": "execute_result"
    }
   ],
   "source": [
    "is_sorted([1,5,2,6,4])"
   ]
  },
  {
   "cell_type": "code",
   "execution_count": 35,
   "id": "55f2c5a7",
   "metadata": {},
   "outputs": [
    {
     "data": {
      "text/plain": [
       "False"
      ]
     },
     "execution_count": 35,
     "metadata": {},
     "output_type": "execute_result"
    }
   ],
   "source": [
    "is_sorted([5,4,3,2,1])"
   ]
  },
  {
   "cell_type": "markdown",
   "id": "87df237b",
   "metadata": {},
   "source": [
    "## 17. Write a Python program to find the intersection of two lists."
   ]
  },
  {
   "cell_type": "code",
   "execution_count": 36,
   "id": "621d1a89",
   "metadata": {},
   "outputs": [],
   "source": [
    "def find_intersection(list1, list2):\n",
    "    set1 = set(list1)\n",
    "    set2 = set(list2)\n",
    "    intersection = set1.intersection(set2)\n",
    "    return list(intersection)\n"
   ]
  },
  {
   "cell_type": "code",
   "execution_count": 37,
   "id": "c90ff335",
   "metadata": {},
   "outputs": [
    {
     "data": {
      "text/plain": [
       "[1, 2, 3, 4, 5]"
      ]
     },
     "execution_count": 37,
     "metadata": {},
     "output_type": "execute_result"
    }
   ],
   "source": [
    "list1 = [1,2,3,4,5,5,5,5,5]\n",
    "list2 = [1,1,1,1,1,2,3,4,5]\n",
    "find_intersection(list1, list2)"
   ]
  },
  {
   "cell_type": "markdown",
   "id": "78fa7e75",
   "metadata": {},
   "source": [
    "## 18. Implement a function to find the maximum subarray sum in a given list"
   ]
  },
  {
   "cell_type": "code",
   "execution_count": 38,
   "id": "3e7886d1",
   "metadata": {},
   "outputs": [],
   "source": [
    "def max_subarray_sum(list):\n",
    "    if not list:\n",
    "        return 0\n",
    "    curr_sum = list[0]\n",
    "    max_sum = list[0]\n",
    "    \n",
    "    for i in list[1:]:\n",
    "        curr_sum = max(i,curr_sum+i)\n",
    "        max_sum = max(curr_sum,max_sum)\n",
    "    \n",
    "    return max_sum"
   ]
  },
  {
   "cell_type": "code",
   "execution_count": 39,
   "id": "a133ec6b",
   "metadata": {},
   "outputs": [
    {
     "data": {
      "text/plain": [
       "12"
      ]
     },
     "execution_count": 39,
     "metadata": {},
     "output_type": "execute_result"
    }
   ],
   "source": [
    "max_subarray_sum([1,2,2,3,4])"
   ]
  },
  {
   "cell_type": "code",
   "execution_count": 41,
   "id": "a96f6eb6",
   "metadata": {},
   "outputs": [
    {
     "data": {
      "text/plain": [
       "4"
      ]
     },
     "execution_count": 41,
     "metadata": {},
     "output_type": "execute_result"
    }
   ],
   "source": [
    "max_subarray_sum([1,-1,2,2,-3,3])"
   ]
  },
  {
   "cell_type": "markdown",
   "id": "7c641b7a",
   "metadata": {},
   "source": [
    "## 19. Write a program to remove all vowels from a given string."
   ]
  },
  {
   "cell_type": "code",
   "execution_count": 42,
   "id": "0e300b00",
   "metadata": {},
   "outputs": [],
   "source": [
    "def remove_vowel(str):\n",
    "    vowel = 'aeiou'\n",
    "    result = ''\n",
    "    \n",
    "    for char in str:\n",
    "        if char.lower() not in vowel:\n",
    "            result +=char\n",
    "    return result"
   ]
  },
  {
   "cell_type": "code",
   "execution_count": 43,
   "id": "e24f39f4",
   "metadata": {},
   "outputs": [
    {
     "data": {
      "text/plain": [
       "'nnt'"
      ]
     },
     "execution_count": 43,
     "metadata": {},
     "output_type": "execute_result"
    }
   ],
   "source": [
    "remove_vowel('ananta')"
   ]
  },
  {
   "cell_type": "markdown",
   "id": "b922a358",
   "metadata": {},
   "source": [
    "## 20. Implement a function to reverse the order of words in a given sentence."
   ]
  },
  {
   "cell_type": "code",
   "execution_count": 44,
   "id": "8a226ef6",
   "metadata": {},
   "outputs": [],
   "source": [
    "def reverse_sentence(sen):\n",
    "    words = sen.split()\n",
    "    \n",
    "    reverse_words = words[::-1]\n",
    "    reverse_sen = \" \".join(reverse_words)\n",
    "    return reverse_sen"
   ]
  },
  {
   "cell_type": "code",
   "execution_count": 45,
   "id": "0563994d",
   "metadata": {},
   "outputs": [
    {
     "data": {
      "text/plain": [
       "'boy good a is ananta'"
      ]
     },
     "execution_count": 45,
     "metadata": {},
     "output_type": "execute_result"
    }
   ],
   "source": [
    "reverse_sentence(\"ananta is a good boy\")"
   ]
  },
  {
   "cell_type": "code",
   "execution_count": null,
   "id": "853a53b6",
   "metadata": {},
   "outputs": [],
   "source": []
  }
 ],
 "metadata": {
  "kernelspec": {
   "display_name": "Python 3 (ipykernel)",
   "language": "python",
   "name": "python3"
  },
  "language_info": {
   "codemirror_mode": {
    "name": "ipython",
    "version": 3
   },
   "file_extension": ".py",
   "mimetype": "text/x-python",
   "name": "python",
   "nbconvert_exporter": "python",
   "pygments_lexer": "ipython3",
   "version": "3.9.13"
  }
 },
 "nbformat": 4,
 "nbformat_minor": 5
}
