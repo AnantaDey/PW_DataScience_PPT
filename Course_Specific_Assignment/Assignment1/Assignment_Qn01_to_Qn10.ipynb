{
 "cells": [
  {
   "cell_type": "markdown",
   "id": "2e199a6b",
   "metadata": {},
   "source": [
    "## 1. Write a Python program to reverse a string without using any built-in string reversal functions.\n"
   ]
  },
  {
   "cell_type": "code",
   "execution_count": 1,
   "id": "4c0e260f",
   "metadata": {},
   "outputs": [
    {
     "data": {
      "text/plain": [
       "'cba'"
      ]
     },
     "execution_count": 1,
     "metadata": {},
     "output_type": "execute_result"
    }
   ],
   "source": [
    "str = 'abc'\n",
    "reverse_str = str[::-1]\n",
    "reverse_str"
   ]
  },
  {
   "cell_type": "markdown",
   "id": "6b862f23",
   "metadata": {},
   "source": [
    "## 2. Implement a function to check if a given string is a palindrome.\n"
   ]
  },
  {
   "cell_type": "code",
   "execution_count": 2,
   "id": "4e9a4c54",
   "metadata": {},
   "outputs": [],
   "source": [
    "def isPalindrome(str):\n",
    "    reverse_str = str[::-1]\n",
    "    if reverse_str == str:\n",
    "        return True\n",
    "    return False"
   ]
  },
  {
   "cell_type": "code",
   "execution_count": 4,
   "id": "f72bcf23",
   "metadata": {},
   "outputs": [
    {
     "name": "stdout",
     "output_type": "stream",
     "text": [
      "False\n",
      "True\n"
     ]
    }
   ],
   "source": [
    "print(isPalindrome('abc'))\n",
    "print(isPalindrome('madam'))"
   ]
  },
  {
   "cell_type": "markdown",
   "id": "f718519e",
   "metadata": {},
   "source": [
    "## 3. Write a program to find the largest element in a given list."
   ]
  },
  {
   "cell_type": "code",
   "execution_count": 7,
   "id": "a52786d3",
   "metadata": {},
   "outputs": [],
   "source": [
    "import sys\n",
    "def findLargest(List):\n",
    "    maxi = -sys.maxsize - 1\n",
    "    for i in List:\n",
    "        maxi = max(maxi,i)\n",
    "    return maxi"
   ]
  },
  {
   "cell_type": "code",
   "execution_count": 8,
   "id": "bd0e42c3",
   "metadata": {},
   "outputs": [
    {
     "data": {
      "text/plain": [
       "5"
      ]
     },
     "execution_count": 8,
     "metadata": {},
     "output_type": "execute_result"
    }
   ],
   "source": [
    "findLargest([1,2,3,4,5])"
   ]
  },
  {
   "cell_type": "markdown",
   "id": "96c32e5c",
   "metadata": {},
   "source": [
    "## 4. Implement a function to count the occurrence of each element in a list."
   ]
  },
  {
   "cell_type": "code",
   "execution_count": 10,
   "id": "5d840694",
   "metadata": {},
   "outputs": [],
   "source": [
    "def countOccurrence(list):\n",
    "    res = {}\n",
    "    for i in list:\n",
    "        if i in res:\n",
    "            res[i]+=1\n",
    "        else:\n",
    "            res[i] = 1\n",
    "    return res"
   ]
  },
  {
   "cell_type": "code",
   "execution_count": 11,
   "id": "4f5b14e6",
   "metadata": {},
   "outputs": [
    {
     "data": {
      "text/plain": [
       "{1: 2, 2: 2, 3: 1, 4: 1, 5: 1}"
      ]
     },
     "execution_count": 11,
     "metadata": {},
     "output_type": "execute_result"
    }
   ],
   "source": [
    "countOccurrence([1,2,2,3,4,5,1])"
   ]
  },
  {
   "cell_type": "markdown",
   "id": "ebffcc69",
   "metadata": {},
   "source": [
    "## 5. Write a Python program to find the second largest number in a list."
   ]
  },
  {
   "cell_type": "code",
   "execution_count": 12,
   "id": "64cd0fed",
   "metadata": {},
   "outputs": [],
   "source": [
    "def find_second_largest(lst):\n",
    "    if len(lst) < 2:\n",
    "        return \"List should contain at least two elements.\"\n",
    "    \n",
    "    largest = float('-inf')\n",
    "    second_largest = float('-inf')\n",
    "    \n",
    "    for num in lst:\n",
    "        if num > largest:\n",
    "            second_largest = largest\n",
    "            largest = num\n",
    "        elif num > second_largest and num != largest:\n",
    "            second_largest = num\n",
    "    \n",
    "    if second_largest == float('-inf'):\n",
    "        return \"There is no second largest number in the list.\"\n",
    "    \n",
    "    return second_largest\n"
   ]
  },
  {
   "cell_type": "code",
   "execution_count": 15,
   "id": "d8bdcfd1",
   "metadata": {},
   "outputs": [
    {
     "data": {
      "text/plain": [
       "8"
      ]
     },
     "execution_count": 15,
     "metadata": {},
     "output_type": "execute_result"
    }
   ],
   "source": [
    "my_list = [5, 10, 3, 8, 1]\n",
    "find_second_largest(my_list)"
   ]
  },
  {
   "cell_type": "markdown",
   "id": "ea571a3d",
   "metadata": {},
   "source": [
    "## 6. Implement a function to remove duplicate elements from a list.\n"
   ]
  },
  {
   "cell_type": "code",
   "execution_count": 16,
   "id": "8c74b8bc",
   "metadata": {},
   "outputs": [],
   "source": [
    "def remove_duplicates(lst):\n",
    "    return list(set(lst))\n"
   ]
  },
  {
   "cell_type": "code",
   "execution_count": 17,
   "id": "959767ae",
   "metadata": {},
   "outputs": [
    {
     "data": {
      "text/plain": [
       "[1, 2, 3, 4, 5, 6, 7, 8, 9]"
      ]
     },
     "execution_count": 17,
     "metadata": {},
     "output_type": "execute_result"
    }
   ],
   "source": [
    "remove_duplicates([1,2,2,3,4,5,5,6,7,8,8,9,9,9,9,9,9])"
   ]
  },
  {
   "cell_type": "markdown",
   "id": "5e81fed0",
   "metadata": {},
   "source": [
    "## 7. Write a program to calculate the factorial of a given number."
   ]
  },
  {
   "cell_type": "code",
   "execution_count": 18,
   "id": "d528be4e",
   "metadata": {},
   "outputs": [],
   "source": [
    "def factorial(val):\n",
    "    product = 1\n",
    "    while val>0:\n",
    "        product = product * val\n",
    "        val -=1\n",
    "    return product"
   ]
  },
  {
   "cell_type": "code",
   "execution_count": 22,
   "id": "670c51a7",
   "metadata": {},
   "outputs": [
    {
     "data": {
      "text/plain": [
       "120"
      ]
     },
     "execution_count": 22,
     "metadata": {},
     "output_type": "execute_result"
    }
   ],
   "source": [
    "factorial(5)"
   ]
  },
  {
   "cell_type": "markdown",
   "id": "412b7cca",
   "metadata": {},
   "source": [
    "## 8. Implement a function to check if a given number is prime."
   ]
  },
  {
   "cell_type": "code",
   "execution_count": 28,
   "id": "492b5f3f",
   "metadata": {},
   "outputs": [],
   "source": [
    "def isPrime(val):\n",
    "    if val<2 :\n",
    "        return False\n",
    "    \n",
    "    for i in range(2, int(val**0.5)+1):\n",
    "        if val%i ==0:\n",
    "            return False\n",
    "    \n",
    "    return True"
   ]
  },
  {
   "cell_type": "code",
   "execution_count": 29,
   "id": "90aa7970",
   "metadata": {},
   "outputs": [
    {
     "data": {
      "text/plain": [
       "False"
      ]
     },
     "execution_count": 29,
     "metadata": {},
     "output_type": "execute_result"
    }
   ],
   "source": [
    "isPrime(10)"
   ]
  },
  {
   "cell_type": "code",
   "execution_count": 31,
   "id": "1ab85bb8",
   "metadata": {},
   "outputs": [
    {
     "data": {
      "text/plain": [
       "True"
      ]
     },
     "execution_count": 31,
     "metadata": {},
     "output_type": "execute_result"
    }
   ],
   "source": [
    "isPrime(193)"
   ]
  },
  {
   "cell_type": "markdown",
   "id": "01438441",
   "metadata": {},
   "source": [
    "## 9. Write a Python program to sort a list of integers in ascending order."
   ]
  },
  {
   "cell_type": "code",
   "execution_count": 32,
   "id": "dca7d2fc",
   "metadata": {},
   "outputs": [],
   "source": [
    "def Sorting(list):\n",
    "    n = len(list)\n",
    "    \n",
    "    for i in range(n-1):\n",
    "        for j in range(n-i-1):\n",
    "            if list[j]>list[j+1]:\n",
    "                list[j],list[j+1] = list[j+1],list[j]\n",
    "    return list"
   ]
  },
  {
   "cell_type": "code",
   "execution_count": 33,
   "id": "d014c7e2",
   "metadata": {},
   "outputs": [
    {
     "data": {
      "text/plain": [
       "[0, 1, 5, 6, 7, 8]"
      ]
     },
     "execution_count": 33,
     "metadata": {},
     "output_type": "execute_result"
    }
   ],
   "source": [
    "Sorting([7,5,8,6,1,0])"
   ]
  },
  {
   "cell_type": "markdown",
   "id": "9dbe4ed9",
   "metadata": {},
   "source": [
    "## 10. Implement a function to find the sum of all numbers in a list."
   ]
  },
  {
   "cell_type": "code",
   "execution_count": 34,
   "id": "a52cf31c",
   "metadata": {},
   "outputs": [],
   "source": [
    "def sum(list):\n",
    "    sum_list = 0\n",
    "    \n",
    "    for i in list:\n",
    "        sum_list +=i\n",
    "    \n",
    "    return sum_list"
   ]
  },
  {
   "cell_type": "code",
   "execution_count": 35,
   "id": "deb8a84a",
   "metadata": {},
   "outputs": [
    {
     "data": {
      "text/plain": [
       "15"
      ]
     },
     "execution_count": 35,
     "metadata": {},
     "output_type": "execute_result"
    }
   ],
   "source": [
    "sum([1,2,3,4,5])"
   ]
  },
  {
   "cell_type": "code",
   "execution_count": null,
   "id": "ffd75fb5",
   "metadata": {},
   "outputs": [],
   "source": []
  }
 ],
 "metadata": {
  "kernelspec": {
   "display_name": "Python 3 (ipykernel)",
   "language": "python",
   "name": "python3"
  },
  "language_info": {
   "codemirror_mode": {
    "name": "ipython",
    "version": 3
   },
   "file_extension": ".py",
   "mimetype": "text/x-python",
   "name": "python",
   "nbconvert_exporter": "python",
   "pygments_lexer": "ipython3",
   "version": "3.9.13"
  }
 },
 "nbformat": 4,
 "nbformat_minor": 5
}
