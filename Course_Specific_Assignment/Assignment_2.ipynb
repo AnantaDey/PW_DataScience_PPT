{
  "nbformat": 4,
  "nbformat_minor": 0,
  "metadata": {
    "colab": {
      "provenance": []
    },
    "kernelspec": {
      "name": "python3",
      "display_name": "Python 3"
    },
    "language_info": {
      "name": "python"
    }
  },
  "cells": [
    {
      "cell_type": "markdown",
      "source": [
        "### Important Libarries"
      ],
      "metadata": {
        "id": "t9bNqWxguw0r"
      }
    },
    {
      "cell_type": "code",
      "source": [
        "import numpy as np\n",
        "import pandas as pd"
      ],
      "metadata": {
        "id": "aDQPoJ2zuwQF"
      },
      "execution_count": 1,
      "outputs": []
    },
    {
      "cell_type": "markdown",
      "source": [
        "### 1. Scenario: A company wants to analyze the sales performance of its products in different regions. They have collected the following data:\n",
        "    Region A: [10, 15, 12, 8, 14]\n",
        "    Region B: [18, 20, 16, 22, 25]\n",
        "    Calculate the mean sales for each region.\n"
      ],
      "metadata": {
        "id": "cvJjC61puhQU"
      }
    },
    {
      "cell_type": "code",
      "execution_count": null,
      "metadata": {
        "id": "APqxAH6cs3KU"
      },
      "outputs": [],
      "source": [
        "A = np.array([10,15,12,8,14])\n",
        "B = np.array([18, 20, 16, 22, 25])"
      ]
    },
    {
      "cell_type": "code",
      "source": [
        "print(A.mean())\n",
        "print(B.mean())"
      ],
      "metadata": {
        "colab": {
          "base_uri": "https://localhost:8080/"
        },
        "id": "7EQwpGOKv-Mp",
        "outputId": "90e18d3e-b501-4ae6-a0b9-152d00af7467"
      },
      "execution_count": null,
      "outputs": [
        {
          "output_type": "stream",
          "name": "stdout",
          "text": [
            "11.8\n",
            "20.2\n"
          ]
        }
      ]
    },
    {
      "cell_type": "markdown",
      "source": [
        "### 2. Scenario: A survey is conducted to measure customer satisfaction on a scale of 1 to 5. The data collected is as follows:\n",
        "    [4, 5, 2, 3, 5, 4, 3, 2, 4, 5]\n",
        "    Calculate the mode of the survey responses.\n"
      ],
      "metadata": {
        "id": "3vsQ8akrwMaA"
      }
    },
    {
      "cell_type": "code",
      "source": [
        "import statistics"
      ],
      "metadata": {
        "id": "Ai1a3C-MxilA"
      },
      "execution_count": null,
      "outputs": []
    },
    {
      "cell_type": "code",
      "source": [
        "data = [4, 5, 2, 3, 5, 4, 3, 2, 4, 5]\n",
        "print(statistics.mode(data))"
      ],
      "metadata": {
        "colab": {
          "base_uri": "https://localhost:8080/"
        },
        "id": "gwuBs1HswCCQ",
        "outputId": "1be3d2a2-b78f-45c0-ac2b-435226c0a66a"
      },
      "execution_count": null,
      "outputs": [
        {
          "output_type": "stream",
          "name": "stdout",
          "text": [
            "4\n"
          ]
        }
      ]
    },
    {
      "cell_type": "markdown",
      "source": [
        "### 3. Scenario: A company wants to compare the salaries of two departments. The salary data for Department A and Department B are as follows:\n",
        "    Department A: [5000, 6000, 5500, 7000]\n",
        "    Department B: [4500, 5500, 5800, 6000, 5200]\n",
        "    Calculate the median salary for each department.\n"
      ],
      "metadata": {
        "id": "14bBVaEHxtRd"
      }
    },
    {
      "cell_type": "code",
      "source": [
        "A = [5000, 6000, 5500, 7000]\n",
        "B = [4500, 5500, 5800, 6000, 5200]\n",
        "print(statistics.median(A))\n",
        "print(statistics.median(B))"
      ],
      "metadata": {
        "colab": {
          "base_uri": "https://localhost:8080/"
        },
        "id": "7vWSCpOowY_Y",
        "outputId": "1cdd3bae-8c78-4ea8-d717-000b37728a0e"
      },
      "execution_count": null,
      "outputs": [
        {
          "output_type": "stream",
          "name": "stdout",
          "text": [
            "5750.0\n",
            "5500\n"
          ]
        }
      ]
    },
    {
      "cell_type": "markdown",
      "source": [
        "### 4. Scenario: A data analyst wants to determine the variability in the daily stock prices of a company. The data collected is as follows:\n",
        "    [25.5, 24.8, 26.1, 25.3, 24.9]\n",
        "    Calculate the range of the stock prices.\n"
      ],
      "metadata": {
        "id": "hxqvYZh_yIN9"
      }
    },
    {
      "cell_type": "code",
      "source": [
        "A = [25.5, 24.8, 26.1, 25.3, 24.9]\n",
        "\n",
        "print(max(A)-min(A))"
      ],
      "metadata": {
        "colab": {
          "base_uri": "https://localhost:8080/"
        },
        "id": "0zDnAzXrxQ2o",
        "outputId": "38fb0810-e471-4f3a-8782-4c5e6a512bb2"
      },
      "execution_count": null,
      "outputs": [
        {
          "output_type": "stream",
          "name": "stdout",
          "text": [
            "1.3000000000000007\n"
          ]
        }
      ]
    },
    {
      "cell_type": "markdown",
      "source": [
        "### 5. Scenario: A study is conducted to compare the performance of two different teaching methods. The test scores of the students in each group are as follows:\n",
        "    Group A: [85, 90, 92, 88, 91]\n",
        "    Group B: [82, 88, 90, 86, 87]\n",
        "    Perform a t-test to determine if there is a significant difference in the mean scores between the two groups.\n"
      ],
      "metadata": {
        "id": "8VZesmDZyrYj"
      }
    },
    {
      "cell_type": "code",
      "source": [
        "from scipy import stats\n",
        "A = [85, 90, 92, 88, 91]\n",
        "B = [82, 88, 90, 86, 87]"
      ],
      "metadata": {
        "id": "j7iVwpNJySl3"
      },
      "execution_count": 3,
      "outputs": []
    },
    {
      "cell_type": "code",
      "source": [
        "t_statistic, p_value = stats.ttest_ind(A, B)\n",
        "\n",
        "print(\"T-Statistic:\", t_statistic)\n",
        "print(\"P-Value:\", p_value)"
      ],
      "metadata": {
        "colab": {
          "base_uri": "https://localhost:8080/"
        },
        "id": "a2eYJg9mTgG5",
        "outputId": "a9f67626-c1fc-4d0e-f5e6-bbb1f3cd500e"
      },
      "execution_count": 4,
      "outputs": [
        {
          "output_type": "stream",
          "name": "stdout",
          "text": [
            "T-Statistic: 1.4312528946642733\n",
            "P-Value: 0.19023970239078333\n"
          ]
        }
      ]
    },
    {
      "cell_type": "markdown",
      "source": [
        "<p>the p-value is greater than the typical significance level of 0.05, suggesting that there is no significant difference in the mean scores between the two groups.</p>"
      ],
      "metadata": {
        "id": "adKUCwsZUBhI"
      }
    },
    {
      "cell_type": "markdown",
      "source": [
        "### 6. Scenario: A company wants to analyze the relationship between advertising expenditure and sales. The data collected is as follows:\n",
        "    Advertising Expenditure (in thousands): [10, 15, 12, 8, 14]\n",
        "    Sales (in thousands): [25, 30, 28, 20, 26]\n",
        "    Calculate the correlation coefficient between advertising expenditure and sales.\n",
        "\n"
      ],
      "metadata": {
        "id": "WslVjS5RUKz9"
      }
    },
    {
      "cell_type": "code",
      "source": [
        "Advertising_Expenditure = [10, 15, 12, 8, 14]\n",
        "Sales = [25, 30, 28, 20, 26]\n",
        "\n",
        "correlation = np.corrcoef(Advertising_Expenditure, Sales)[0,1]\n",
        "\n",
        "correlation"
      ],
      "metadata": {
        "colab": {
          "base_uri": "https://localhost:8080/"
        },
        "id": "0rRsfx4PT-Yk",
        "outputId": "71355549-f837-41cd-e420-d96b81cf640f"
      },
      "execution_count": 7,
      "outputs": [
        {
          "output_type": "execute_result",
          "data": {
            "text/plain": [
              "0.8757511375750132"
            ]
          },
          "metadata": {},
          "execution_count": 7
        }
      ]
    },
    {
      "cell_type": "markdown",
      "source": [
        "### 7. Scenario: A survey is conducted to measure the heights of a group of people. The data collected is as follows:\n",
        "    [160, 170, 165, 155, 175, 180, 170]\n",
        "    Calculate the standard deviation of the heights.\n"
      ],
      "metadata": {
        "id": "vZz1p8yyUxbi"
      }
    },
    {
      "cell_type": "code",
      "source": [
        "heights = [160, 170, 165, 155, 175, 180, 170]\n",
        "\n",
        "sd = np.std(heights)\n",
        "sd"
      ],
      "metadata": {
        "colab": {
          "base_uri": "https://localhost:8080/"
        },
        "id": "e3orvChzUp_D",
        "outputId": "2ee03fb6-e1e2-4f75-fb30-400d7ff1017b"
      },
      "execution_count": 8,
      "outputs": [
        {
          "output_type": "execute_result",
          "data": {
            "text/plain": [
              "7.953949089757174"
            ]
          },
          "metadata": {},
          "execution_count": 8
        }
      ]
    },
    {
      "cell_type": "markdown",
      "source": [
        "### 8. Scenario: A company wants to analyze the relationship between employee tenure and job satisfaction. The data collected is as follows:\n",
        "    Employee Tenure (in years): [2, 3, 5, 4, 6, 2, 4]\n",
        "    ob Satisfaction (on a scale of 1 to 10): [7, 8, 6, 9, 5, 7, 6]\n",
        "    Perform a linear regression analysis to predict job satisfaction based on employee tenure.\n"
      ],
      "metadata": {
        "id": "y-PbcWUUVG9-"
      }
    },
    {
      "cell_type": "code",
      "source": [
        "Employee_tenure =  [2, 3, 5, 4, 6, 2, 4]\n",
        "Job_satisfaction = [7, 8, 6, 9, 5, 7, 6]\n",
        "\n",
        "from sklearn.linear_model import LinearRegression"
      ],
      "metadata": {
        "id": "rO81kkG9VAVo"
      },
      "execution_count": 10,
      "outputs": []
    },
    {
      "cell_type": "code",
      "source": [
        "Employee_tenure = np.array([2, 3, 5, 4, 6, 2, 4]).reshape(-1, 1)\n",
        "Job_satisfaction = np.array([7, 8, 6, 9, 5, 7, 6])\n",
        "\n",
        "model = LinearRegression()"
      ],
      "metadata": {
        "id": "pvcvya1-WBbN"
      },
      "execution_count": 13,
      "outputs": []
    },
    {
      "cell_type": "code",
      "source": [
        "model.fit(Employee_tenure, Job_satisfaction)\n",
        "model.intercept_"
      ],
      "metadata": {
        "colab": {
          "base_uri": "https://localhost:8080/"
        },
        "id": "ZPN_sNPZWPM6",
        "outputId": "54c2a964-7d6b-4b78-ce9a-e327eb7e92aa"
      },
      "execution_count": 15,
      "outputs": [
        {
          "output_type": "execute_result",
          "data": {
            "text/plain": [
              "8.595744680851062"
            ]
          },
          "metadata": {},
          "execution_count": 15
        }
      ]
    },
    {
      "cell_type": "markdown",
      "source": [
        "    This is the predicted job statisfication"
      ],
      "metadata": {
        "id": "xK9RnXCdW9yj"
      }
    },
    {
      "cell_type": "markdown",
      "source": [
        "### 9. Scenario: A study is conducted to compare the effectiveness of two different medications. The recovery times of the patients in each group are as follows:\n",
        "    Medication A: [10, 12, 14, 11, 13]\n",
        "    Medication B: [15, 17, 16, 14, 18]\n",
        "    Perform an analysis of variance (ANOVA) to determine if there is a significant difference in the mean recovery times between the two medications.\n"
      ],
      "metadata": {
        "id": "W8Tfg2gtXF84"
      }
    },
    {
      "cell_type": "code",
      "source": [
        "A = [10, 12, 14, 11, 13]\n",
        "B =  [15, 17, 16, 14, 18]\n",
        "f_value, p_value = stats.f_oneway(A,B)\n",
        "\n",
        "print(f'The f_value is {f_value}')\n",
        "print(f'The p_value is {p_value}')"
      ],
      "metadata": {
        "colab": {
          "base_uri": "https://localhost:8080/"
        },
        "id": "nqp88dDPWvEg",
        "outputId": "a010f812-32ac-4586-834e-27a4a59643fa"
      },
      "execution_count": 18,
      "outputs": [
        {
          "output_type": "stream",
          "name": "stdout",
          "text": [
            "The f_value is 16.0\n",
            "The p_value is 0.003949772803445326\n"
          ]
        }
      ]
    },
    {
      "cell_type": "markdown",
      "source": [
        "    Since the p_value is smaller than 0.05 level of significance,\n",
        "    there is a significant difference in the mean recovery times\n",
        "    between the two medications."
      ],
      "metadata": {
        "id": "noQC55lNX8PG"
      }
    },
    {
      "cell_type": "markdown",
      "source": [
        "### 10. Scenario: A company wants to analyze customer feedback ratings on a scale of 1 to 10. The data collected is as follows:\n",
        "    [8, 9, 7, 6, 8, 10, 9, 8, 7, 8]\n",
        "    Calculate the 75th percentile of the feedback ratings.\n"
      ],
      "metadata": {
        "id": "PY-5gqGJYec0"
      }
    },
    {
      "cell_type": "code",
      "source": [
        "feedback = [8, 9, 7, 6, 8, 10, 9, 8, 7, 8]\n",
        "per_75 = np.percentile(feedback, 75)\n",
        "\n",
        "per_75"
      ],
      "metadata": {
        "colab": {
          "base_uri": "https://localhost:8080/"
        },
        "id": "YXu0X6u4W3RE",
        "outputId": "d14e5551-ffaa-4cb6-8c2d-428dff2ed21e"
      },
      "execution_count": 19,
      "outputs": [
        {
          "output_type": "execute_result",
          "data": {
            "text/plain": [
              "8.75"
            ]
          },
          "metadata": {},
          "execution_count": 19
        }
      ]
    },
    {
      "cell_type": "markdown",
      "source": [
        "### 11. Scenario: A quality control department wants to test the weight consistency of a product. The weights of a sample of products are as follows:\n",
        "    [10.2, 9.8, 10.0, 10.5, 10.3, 10.1]\n",
        "    Perform a hypothesis test to determine if the mean weight differs significantly from 10 grams.\n"
      ],
      "metadata": {
        "id": "GliTokpxYytD"
      }
    },
    {
      "cell_type": "code",
      "source": [
        "from scipy import stats\n",
        "\n",
        "weights = [10.2, 9.8, 10.0, 10.5, 10.3, 10.1]\n",
        "\n",
        "t_statistic, p_value = stats.ttest_1samp(weights, 10)\n",
        "\n",
        "print(\"T-Statistic:\", t_statistic)\n",
        "print(\"P-Value:\", p_value)\n"
      ],
      "metadata": {
        "colab": {
          "base_uri": "https://localhost:8080/"
        },
        "id": "slg8KzdeYuD-",
        "outputId": "38452854-8941-45b2-d9b6-81d323ed0c7a"
      },
      "execution_count": 20,
      "outputs": [
        {
          "output_type": "stream",
          "name": "stdout",
          "text": [
            "T-Statistic: 1.5126584522688367\n",
            "P-Value: 0.19077595151110102\n"
          ]
        }
      ]
    },
    {
      "cell_type": "markdown",
      "source": [
        "    In this case, the p-value is greater than the typical significance\n",
        "    level of 0.05, suggesting that there is not enough evidence\n",
        "    to conclude that the mean weight significantly differs from 10 grams."
      ],
      "metadata": {
        "id": "_KZvlPBjaNj4"
      }
    },
    {
      "cell_type": "markdown",
      "source": [
        "### 12. Scenario: A company wants to analyze the click-through rates of two different website designs. The number of clicks for each design is as follows:\n",
        "\n",
        "    Design A: [100, 120, 110, 90, 95]\n",
        "    Design B: [80, 85, 90, 95, 100]\n",
        "    Perform a chi-square test to determine if there is a significant difference in the click-through rates between the two designs.\n"
      ],
      "metadata": {
        "id": "TePdA1ARal2O"
      }
    },
    {
      "cell_type": "code",
      "source": [
        "design_A = [100, 120, 110, 90, 95]\n",
        "design_B = [80, 85, 90, 95, 100]\n",
        "\n",
        "observed = np.array([design_A, design_B])\n",
        "\n",
        "chi2_statistic, p_value, _, _ = stats.chi2_contingency(observed)\n",
        "\n",
        "print('chi2_statistic is {}'.format(chi2_statistic))\n",
        "print('p_value is {}'.format(p_value))"
      ],
      "metadata": {
        "colab": {
          "base_uri": "https://localhost:8080/"
        },
        "id": "pUEfxoY7aMjr",
        "outputId": "58363a8b-b202-4b76-8a38-61ef11d2e53f"
      },
      "execution_count": 22,
      "outputs": [
        {
          "output_type": "stream",
          "name": "stdout",
          "text": [
            "chi2_statistic is 6.110658166925435\n",
            "p_value is 0.19103526314060293\n"
          ]
        }
      ]
    },
    {
      "cell_type": "markdown",
      "source": [
        "    In this case, the p-value is greater than the typical significance level of 0.05,suggesting that there is not enough evidence\n",
        "    to conclude that there is a significant difference in the click-through rates between the two designs."
      ],
      "metadata": {
        "id": "y_zirioybU_7"
      }
    },
    {
      "cell_type": "markdown",
      "source": [
        "### 13. Scenario: A survey is conducted to measure customer satisfaction with a product on a scale of 1 to 10. The data collected is as follows:\n",
        "    [7, 9, 6, 8, 10, 7, 8, 9, 7, 8]\n",
        "    Calculate the 95% confidence interval for the population mean satisfaction score.\n"
      ],
      "metadata": {
        "id": "oc7ya4DUbhWb"
      }
    },
    {
      "cell_type": "code",
      "source": [
        "satisfaction_scores = [7, 9, 6, 8, 10, 7, 8, 9, 7, 8]\n",
        "confidence_interval = stats.t.interval(0.95, len(satisfaction_scores)-1, loc=np.mean(satisfaction_scores), scale=stats.sem(satisfaction_scores))\n",
        "\n",
        "print(f'The 95% confidence interval is {confidence_interval}')"
      ],
      "metadata": {
        "colab": {
          "base_uri": "https://localhost:8080/"
        },
        "id": "W-V79f32bJD8",
        "outputId": "ba8f1846-d086-46a1-a8e4-11aa556e9ee8"
      },
      "execution_count": 24,
      "outputs": [
        {
          "output_type": "stream",
          "name": "stdout",
          "text": [
            "The 95% confidence interval is (7.043561120599888, 8.756438879400113)\n"
          ]
        }
      ]
    },
    {
      "cell_type": "markdown",
      "source": [
        "### 14. Scenario: A company wants to analyze the effect of temperature on product performance. The data collected is as follows:\n",
        "    Temperature (in degrees Celsius): [20, 22, 23, 19, 21]\n",
        "    Performance (on a scale of 1 to 10): [8, 7, 9, 6, 8]\n",
        "    Perform a simple linear regression to predict performance based on temperature.\n"
      ],
      "metadata": {
        "id": "uzvwLA65cZpE"
      }
    },
    {
      "cell_type": "code",
      "source": [
        "temp = np.array([20, 22, 23, 19, 21]).reshape(-1,1)\n",
        "performance = np.array([8, 7, 9, 6, 8])\n",
        "\n",
        "model = LinearRegression()\n",
        "\n",
        "model"
      ],
      "metadata": {
        "colab": {
          "base_uri": "https://localhost:8080/",
          "height": 74
        },
        "id": "Rsx-i-FWcKNR",
        "outputId": "4dfea707-9cc8-47c1-8465-59dc4ed5fc89"
      },
      "execution_count": 26,
      "outputs": [
        {
          "output_type": "execute_result",
          "data": {
            "text/plain": [
              "LinearRegression()"
            ],
            "text/html": [
              "<style>#sk-container-id-1 {color: black;background-color: white;}#sk-container-id-1 pre{padding: 0;}#sk-container-id-1 div.sk-toggleable {background-color: white;}#sk-container-id-1 label.sk-toggleable__label {cursor: pointer;display: block;width: 100%;margin-bottom: 0;padding: 0.3em;box-sizing: border-box;text-align: center;}#sk-container-id-1 label.sk-toggleable__label-arrow:before {content: \"▸\";float: left;margin-right: 0.25em;color: #696969;}#sk-container-id-1 label.sk-toggleable__label-arrow:hover:before {color: black;}#sk-container-id-1 div.sk-estimator:hover label.sk-toggleable__label-arrow:before {color: black;}#sk-container-id-1 div.sk-toggleable__content {max-height: 0;max-width: 0;overflow: hidden;text-align: left;background-color: #f0f8ff;}#sk-container-id-1 div.sk-toggleable__content pre {margin: 0.2em;color: black;border-radius: 0.25em;background-color: #f0f8ff;}#sk-container-id-1 input.sk-toggleable__control:checked~div.sk-toggleable__content {max-height: 200px;max-width: 100%;overflow: auto;}#sk-container-id-1 input.sk-toggleable__control:checked~label.sk-toggleable__label-arrow:before {content: \"▾\";}#sk-container-id-1 div.sk-estimator input.sk-toggleable__control:checked~label.sk-toggleable__label {background-color: #d4ebff;}#sk-container-id-1 div.sk-label input.sk-toggleable__control:checked~label.sk-toggleable__label {background-color: #d4ebff;}#sk-container-id-1 input.sk-hidden--visually {border: 0;clip: rect(1px 1px 1px 1px);clip: rect(1px, 1px, 1px, 1px);height: 1px;margin: -1px;overflow: hidden;padding: 0;position: absolute;width: 1px;}#sk-container-id-1 div.sk-estimator {font-family: monospace;background-color: #f0f8ff;border: 1px dotted black;border-radius: 0.25em;box-sizing: border-box;margin-bottom: 0.5em;}#sk-container-id-1 div.sk-estimator:hover {background-color: #d4ebff;}#sk-container-id-1 div.sk-parallel-item::after {content: \"\";width: 100%;border-bottom: 1px solid gray;flex-grow: 1;}#sk-container-id-1 div.sk-label:hover label.sk-toggleable__label {background-color: #d4ebff;}#sk-container-id-1 div.sk-serial::before {content: \"\";position: absolute;border-left: 1px solid gray;box-sizing: border-box;top: 0;bottom: 0;left: 50%;z-index: 0;}#sk-container-id-1 div.sk-serial {display: flex;flex-direction: column;align-items: center;background-color: white;padding-right: 0.2em;padding-left: 0.2em;position: relative;}#sk-container-id-1 div.sk-item {position: relative;z-index: 1;}#sk-container-id-1 div.sk-parallel {display: flex;align-items: stretch;justify-content: center;background-color: white;position: relative;}#sk-container-id-1 div.sk-item::before, #sk-container-id-1 div.sk-parallel-item::before {content: \"\";position: absolute;border-left: 1px solid gray;box-sizing: border-box;top: 0;bottom: 0;left: 50%;z-index: -1;}#sk-container-id-1 div.sk-parallel-item {display: flex;flex-direction: column;z-index: 1;position: relative;background-color: white;}#sk-container-id-1 div.sk-parallel-item:first-child::after {align-self: flex-end;width: 50%;}#sk-container-id-1 div.sk-parallel-item:last-child::after {align-self: flex-start;width: 50%;}#sk-container-id-1 div.sk-parallel-item:only-child::after {width: 0;}#sk-container-id-1 div.sk-dashed-wrapped {border: 1px dashed gray;margin: 0 0.4em 0.5em 0.4em;box-sizing: border-box;padding-bottom: 0.4em;background-color: white;}#sk-container-id-1 div.sk-label label {font-family: monospace;font-weight: bold;display: inline-block;line-height: 1.2em;}#sk-container-id-1 div.sk-label-container {text-align: center;}#sk-container-id-1 div.sk-container {/* jupyter's `normalize.less` sets `[hidden] { display: none; }` but bootstrap.min.css set `[hidden] { display: none !important; }` so we also need the `!important` here to be able to override the default hidden behavior on the sphinx rendered scikit-learn.org. See: https://github.com/scikit-learn/scikit-learn/issues/21755 */display: inline-block !important;position: relative;}#sk-container-id-1 div.sk-text-repr-fallback {display: none;}</style><div id=\"sk-container-id-1\" class=\"sk-top-container\"><div class=\"sk-text-repr-fallback\"><pre>LinearRegression()</pre><b>In a Jupyter environment, please rerun this cell to show the HTML representation or trust the notebook. <br />On GitHub, the HTML representation is unable to render, please try loading this page with nbviewer.org.</b></div><div class=\"sk-container\" hidden><div class=\"sk-item\"><div class=\"sk-estimator sk-toggleable\"><input class=\"sk-toggleable__control sk-hidden--visually\" id=\"sk-estimator-id-1\" type=\"checkbox\" checked><label for=\"sk-estimator-id-1\" class=\"sk-toggleable__label sk-toggleable__label-arrow\">LinearRegression</label><div class=\"sk-toggleable__content\"><pre>LinearRegression()</pre></div></div></div></div></div>"
            ]
          },
          "metadata": {},
          "execution_count": 26
        }
      ]
    },
    {
      "cell_type": "code",
      "source": [
        "model.fit(temp,performance)\n",
        "model.intercept_"
      ],
      "metadata": {
        "colab": {
          "base_uri": "https://localhost:8080/"
        },
        "id": "9vrihOevclF2",
        "outputId": "6bb33520-6b9e-4bfc-c920-92b184acfbd0"
      },
      "execution_count": 28,
      "outputs": [
        {
          "output_type": "execute_result",
          "data": {
            "text/plain": [
              "-2.8999999999999986"
            ]
          },
          "metadata": {},
          "execution_count": 28
        }
      ]
    },
    {
      "cell_type": "markdown",
      "source": [
        "### 15. Scenario: A study is conducted to compare the preferences of two groups of participants. The preferences are measured on a Likert scale from 1 to 5. The data collected is as follows:\n",
        "    Group A: [4, 3, 5, 2, 4]\n",
        "    Group B: [3, 2, 4, 3, 3]\n",
        "    Perform a Mann-Whitney U test to determine if there is a significant difference in the median preferences between the two groups.\n"
      ],
      "metadata": {
        "id": "optZRz1OdnbA"
      }
    },
    {
      "cell_type": "code",
      "source": [
        "group_A = [4, 3, 5, 2, 4]\n",
        "group_B = [3, 2, 4, 3, 3]\n",
        "\n",
        "u_statistic, p_value = stats.mannwhitneyu(group_A, group_B)\n",
        "\n",
        "print(\"Mann-Whitney U Statistic:\", u_statistic)\n",
        "print(\"P-Value:\", p_value)"
      ],
      "metadata": {
        "colab": {
          "base_uri": "https://localhost:8080/"
        },
        "id": "VKTdPNz8dH16",
        "outputId": "2dbfecf0-c634-49bf-bb25-2ce7b64ff7bb"
      },
      "execution_count": 30,
      "outputs": [
        {
          "output_type": "stream",
          "name": "stdout",
          "text": [
            "Mann-Whitney U Statistic: 17.0\n",
            "P-Value: 0.380836480306712\n"
          ]
        }
      ]
    },
    {
      "cell_type": "markdown",
      "source": [
        "    In this case, the p-value is greater than the typical significance level of 0.05, suggesting that there is not enough evidence\n",
        "    to conclude that there is a significant difference in the median preferences between the two groups."
      ],
      "metadata": {
        "id": "jP-uJERcd2Fq"
      }
    },
    {
      "cell_type": "code",
      "source": [],
      "metadata": {
        "id": "ODCxziRSdymP"
      },
      "execution_count": null,
      "outputs": []
    }
  ]
}